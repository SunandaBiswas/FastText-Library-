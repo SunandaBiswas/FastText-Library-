{
 "cells": [
  {
   "cell_type": "markdown",
   "id": "d3ad72f4",
   "metadata": {},
   "source": [
    "# Text Classification with FastText & Preprocessed with NLTK Library"
   ]
  },
  {
   "cell_type": "markdown",
   "id": "86ae268d",
   "metadata": {},
   "source": [
    "- **Official Documentations :**\n",
    "- what is fasttext : https://fasttext.cc/docs/en/support.html\n",
    "- Tutorials(Text Classification): https://fasttext.cc/docs/en/supervised-tutorial.html\n",
    "- Tutorials(Word Representation): https://fasttext.cc/docs/en/unsupervised-tutorial.html\n",
    "- python module : https://fasttext.cc/docs/en/python-module.html\n",
    "- Blog post: https://fasttext.cc/blog/2016/08/18/blog-post.html\n",
    "- why fasttext invented : https://arxiv.org/pdf/1607.04606.pdf\n",
    "- github : https://github.com/facebookresearch/fastText\n",
    "- **Articles :**\n",
    "- https://medium.com/@oleg.tarasov/building-fasttext-python-wrapper-from-source-under-windows-68e693a68cbb\n",
    "- https://radimrehurek.com/gensim/models/fasttext.html\n",
    "- https://stackabuse.com/python-for-nlp-working-with-facebook-fasttext-library/"
   ]
  },
  {
   "cell_type": "markdown",
   "id": "1ddcd679",
   "metadata": {},
   "source": [
    "#### What is fasttext?\n",
    "\n",
    "**fastText** is an open-source library, developed by the Facebook AI Research lab. \n",
    "- **Why fasttext?**\n",
    "- better and faster **text classification**\n",
    "- **efficient learning** of **word representations** \n",
    "- for processing large datasets quickly and accurately.\n",
    "- fastText stacks impressively in both accuracy and training and testing times against previously published state-of-the-art models."
   ]
  },
  {
   "cell_type": "markdown",
   "id": "ffc8de82",
   "metadata": {},
   "source": [
    "##### Dataset : \n",
    "https://www.kaggle.com/snap/amazon-fine-food-reviews"
   ]
  },
  {
   "cell_type": "markdown",
   "id": "fb4c2d2d",
   "metadata": {},
   "source": [
    "##### Workflow : \n",
    "- Import required libraries\n",
    "- Basic Data Exploration\n",
    "- Feature Engineering\n",
    "- Model creation and Evaluation"
   ]
  },
  {
   "cell_type": "markdown",
   "id": "31b9d5a9",
   "metadata": {},
   "source": [
    "##### ___________________________ Importing necessary Libraries_____"
   ]
  },
  {
   "cell_type": "code",
   "execution_count": 1,
   "id": "92165f76",
   "metadata": {},
   "outputs": [],
   "source": [
    "import re\n",
    "import missingno\n",
    "import nltk\n",
    "from nltk.corpus import stopwords\n",
    "from nltk.stem.porter import PorterStemmer\n",
    "from nltk.tokenize import word_tokenize\n",
    "\n",
    "import numpy as np\n",
    "import pandas as pd\n",
    "import seaborn as sns\n",
    "import matplotlib.pyplot as plt\n",
    "import missingno as msno"
   ]
  },
  {
   "cell_type": "code",
   "execution_count": 2,
   "id": "0684cb2c",
   "metadata": {},
   "outputs": [],
   "source": [
    "df = pd.read_csv(r'C:\\Users\\ASUS\\Desktop\\FastText\\Dataset\\Amazon_FoodReviews.csv')"
   ]
  },
  {
   "cell_type": "code",
   "execution_count": 3,
   "id": "fc2d2b57",
   "metadata": {},
   "outputs": [
    {
     "data": {
      "text/html": [
       "<div>\n",
       "<style scoped>\n",
       "    .dataframe tbody tr th:only-of-type {\n",
       "        vertical-align: middle;\n",
       "    }\n",
       "\n",
       "    .dataframe tbody tr th {\n",
       "        vertical-align: top;\n",
       "    }\n",
       "\n",
       "    .dataframe thead th {\n",
       "        text-align: right;\n",
       "    }\n",
       "</style>\n",
       "<table border=\"1\" class=\"dataframe\">\n",
       "  <thead>\n",
       "    <tr style=\"text-align: right;\">\n",
       "      <th></th>\n",
       "      <th>Id</th>\n",
       "      <th>ProductId</th>\n",
       "      <th>UserId</th>\n",
       "      <th>ProfileName</th>\n",
       "      <th>HelpfulnessNumerator</th>\n",
       "      <th>HelpfulnessDenominator</th>\n",
       "      <th>Score</th>\n",
       "      <th>Time</th>\n",
       "      <th>Summary</th>\n",
       "      <th>Text</th>\n",
       "    </tr>\n",
       "  </thead>\n",
       "  <tbody>\n",
       "    <tr>\n",
       "      <th>0</th>\n",
       "      <td>1</td>\n",
       "      <td>B001E4KFG0</td>\n",
       "      <td>A3SGXH7AUHU8GW</td>\n",
       "      <td>delmartian</td>\n",
       "      <td>1</td>\n",
       "      <td>1</td>\n",
       "      <td>5</td>\n",
       "      <td>1303862400</td>\n",
       "      <td>Good Quality Dog Food</td>\n",
       "      <td>I have bought several of the Vitality canned d...</td>\n",
       "    </tr>\n",
       "    <tr>\n",
       "      <th>1</th>\n",
       "      <td>2</td>\n",
       "      <td>B00813GRG4</td>\n",
       "      <td>A1D87F6ZCVE5NK</td>\n",
       "      <td>dll pa</td>\n",
       "      <td>0</td>\n",
       "      <td>0</td>\n",
       "      <td>1</td>\n",
       "      <td>1346976000</td>\n",
       "      <td>Not as Advertised</td>\n",
       "      <td>Product arrived labeled as Jumbo Salted Peanut...</td>\n",
       "    </tr>\n",
       "    <tr>\n",
       "      <th>2</th>\n",
       "      <td>3</td>\n",
       "      <td>B000LQOCH0</td>\n",
       "      <td>ABXLMWJIXXAIN</td>\n",
       "      <td>Natalia Corres \"Natalia Corres\"</td>\n",
       "      <td>1</td>\n",
       "      <td>1</td>\n",
       "      <td>4</td>\n",
       "      <td>1219017600</td>\n",
       "      <td>\"Delight\" says it all</td>\n",
       "      <td>This is a confection that has been around a fe...</td>\n",
       "    </tr>\n",
       "    <tr>\n",
       "      <th>3</th>\n",
       "      <td>4</td>\n",
       "      <td>B000UA0QIQ</td>\n",
       "      <td>A395BORC6FGVXV</td>\n",
       "      <td>Karl</td>\n",
       "      <td>3</td>\n",
       "      <td>3</td>\n",
       "      <td>2</td>\n",
       "      <td>1307923200</td>\n",
       "      <td>Cough Medicine</td>\n",
       "      <td>If you are looking for the secret ingredient i...</td>\n",
       "    </tr>\n",
       "    <tr>\n",
       "      <th>4</th>\n",
       "      <td>5</td>\n",
       "      <td>B006K2ZZ7K</td>\n",
       "      <td>A1UQRSCLF8GW1T</td>\n",
       "      <td>Michael D. Bigham \"M. Wassir\"</td>\n",
       "      <td>0</td>\n",
       "      <td>0</td>\n",
       "      <td>5</td>\n",
       "      <td>1350777600</td>\n",
       "      <td>Great taffy</td>\n",
       "      <td>Great taffy at a great price.  There was a wid...</td>\n",
       "    </tr>\n",
       "  </tbody>\n",
       "</table>\n",
       "</div>"
      ],
      "text/plain": [
       "   Id   ProductId          UserId                      ProfileName  \\\n",
       "0   1  B001E4KFG0  A3SGXH7AUHU8GW                       delmartian   \n",
       "1   2  B00813GRG4  A1D87F6ZCVE5NK                           dll pa   \n",
       "2   3  B000LQOCH0   ABXLMWJIXXAIN  Natalia Corres \"Natalia Corres\"   \n",
       "3   4  B000UA0QIQ  A395BORC6FGVXV                             Karl   \n",
       "4   5  B006K2ZZ7K  A1UQRSCLF8GW1T    Michael D. Bigham \"M. Wassir\"   \n",
       "\n",
       "   HelpfulnessNumerator  HelpfulnessDenominator  Score        Time  \\\n",
       "0                     1                       1      5  1303862400   \n",
       "1                     0                       0      1  1346976000   \n",
       "2                     1                       1      4  1219017600   \n",
       "3                     3                       3      2  1307923200   \n",
       "4                     0                       0      5  1350777600   \n",
       "\n",
       "                 Summary                                               Text  \n",
       "0  Good Quality Dog Food  I have bought several of the Vitality canned d...  \n",
       "1      Not as Advertised  Product arrived labeled as Jumbo Salted Peanut...  \n",
       "2  \"Delight\" says it all  This is a confection that has been around a fe...  \n",
       "3         Cough Medicine  If you are looking for the secret ingredient i...  \n",
       "4            Great taffy  Great taffy at a great price.  There was a wid...  "
      ]
     },
     "execution_count": 3,
     "metadata": {},
     "output_type": "execute_result"
    }
   ],
   "source": [
    "df.head()"
   ]
  },
  {
   "cell_type": "markdown",
   "id": "c2da3262",
   "metadata": {},
   "source": [
    "##### ___________________________ Basic Data Exploration & Preprocessing _______________________________________"
   ]
  },
  {
   "cell_type": "code",
   "execution_count": 4,
   "id": "5fb141a4",
   "metadata": {},
   "outputs": [
    {
     "name": "stdout",
     "output_type": "stream",
     "text": [
      "['Id', 'ProductId', 'UserId', 'ProfileName', 'HelpfulnessNumerator', 'HelpfulnessDenominator', 'Score', 'Time', 'Summary', 'Text']\n"
     ]
    }
   ],
   "source": [
    "print(df.columns.tolist())"
   ]
  },
  {
   "cell_type": "code",
   "execution_count": 5,
   "id": "3738faba",
   "metadata": {},
   "outputs": [
    {
     "name": "stdout",
     "output_type": "stream",
     "text": [
      "<class 'pandas.core.frame.DataFrame'>\n",
      "RangeIndex: 568454 entries, 0 to 568453\n",
      "Data columns (total 10 columns):\n",
      " #   Column                  Non-Null Count   Dtype \n",
      "---  ------                  --------------   ----- \n",
      " 0   Id                      568454 non-null  int64 \n",
      " 1   ProductId               568454 non-null  object\n",
      " 2   UserId                  568454 non-null  object\n",
      " 3   ProfileName             568438 non-null  object\n",
      " 4   HelpfulnessNumerator    568454 non-null  int64 \n",
      " 5   HelpfulnessDenominator  568454 non-null  int64 \n",
      " 6   Score                   568454 non-null  int64 \n",
      " 7   Time                    568454 non-null  int64 \n",
      " 8   Summary                 568427 non-null  object\n",
      " 9   Text                    568454 non-null  object\n",
      "dtypes: int64(5), object(5)\n",
      "memory usage: 43.4+ MB\n"
     ]
    }
   ],
   "source": [
    "df.info()"
   ]
  },
  {
   "cell_type": "code",
   "execution_count": 6,
   "id": "e3c80afb",
   "metadata": {},
   "outputs": [],
   "source": [
    "#dropping unnecessary columns\n",
    "df= df.drop(['Id','ProductId','UserId','ProfileName','HelpfulnessNumerator', 'HelpfulnessDenominator','Time', 'Summary'], axis=1)"
   ]
  },
  {
   "cell_type": "code",
   "execution_count": 7,
   "id": "afb694e5",
   "metadata": {},
   "outputs": [
    {
     "data": {
      "text/html": [
       "<div>\n",
       "<style scoped>\n",
       "    .dataframe tbody tr th:only-of-type {\n",
       "        vertical-align: middle;\n",
       "    }\n",
       "\n",
       "    .dataframe tbody tr th {\n",
       "        vertical-align: top;\n",
       "    }\n",
       "\n",
       "    .dataframe thead th {\n",
       "        text-align: right;\n",
       "    }\n",
       "</style>\n",
       "<table border=\"1\" class=\"dataframe\">\n",
       "  <thead>\n",
       "    <tr style=\"text-align: right;\">\n",
       "      <th></th>\n",
       "      <th>Score</th>\n",
       "      <th>Text</th>\n",
       "    </tr>\n",
       "  </thead>\n",
       "  <tbody>\n",
       "    <tr>\n",
       "      <th>0</th>\n",
       "      <td>5</td>\n",
       "      <td>I have bought several of the Vitality canned d...</td>\n",
       "    </tr>\n",
       "    <tr>\n",
       "      <th>1</th>\n",
       "      <td>1</td>\n",
       "      <td>Product arrived labeled as Jumbo Salted Peanut...</td>\n",
       "    </tr>\n",
       "    <tr>\n",
       "      <th>2</th>\n",
       "      <td>4</td>\n",
       "      <td>This is a confection that has been around a fe...</td>\n",
       "    </tr>\n",
       "    <tr>\n",
       "      <th>3</th>\n",
       "      <td>2</td>\n",
       "      <td>If you are looking for the secret ingredient i...</td>\n",
       "    </tr>\n",
       "    <tr>\n",
       "      <th>4</th>\n",
       "      <td>5</td>\n",
       "      <td>Great taffy at a great price.  There was a wid...</td>\n",
       "    </tr>\n",
       "  </tbody>\n",
       "</table>\n",
       "</div>"
      ],
      "text/plain": [
       "   Score                                               Text\n",
       "0      5  I have bought several of the Vitality canned d...\n",
       "1      1  Product arrived labeled as Jumbo Salted Peanut...\n",
       "2      4  This is a confection that has been around a fe...\n",
       "3      2  If you are looking for the secret ingredient i...\n",
       "4      5  Great taffy at a great price.  There was a wid..."
      ]
     },
     "execution_count": 7,
     "metadata": {},
     "output_type": "execute_result"
    }
   ],
   "source": [
    "df.head()"
   ]
  },
  {
   "cell_type": "code",
   "execution_count": 8,
   "id": "f9caafb5",
   "metadata": {},
   "outputs": [
    {
     "data": {
      "text/plain": [
       "Score    0\n",
       "Text     0\n",
       "dtype: int64"
      ]
     },
     "execution_count": 8,
     "metadata": {},
     "output_type": "execute_result"
    }
   ],
   "source": [
    "#checking null values\n",
    "\n",
    "df.isnull().sum()"
   ]
  },
  {
   "cell_type": "code",
   "execution_count": 9,
   "id": "50eb9f61",
   "metadata": {},
   "outputs": [
    {
     "data": {
      "text/plain": [
       "Score    0\n",
       "Text     0\n",
       "dtype: int64"
      ]
     },
     "execution_count": 9,
     "metadata": {},
     "output_type": "execute_result"
    }
   ],
   "source": [
    "#checking nan values\n",
    "\n",
    "df.isna().sum()"
   ]
  },
  {
   "cell_type": "code",
   "execution_count": 10,
   "id": "61c14a85",
   "metadata": {},
   "outputs": [
    {
     "name": "stdout",
     "output_type": "stream",
     "text": [
      "[5 1 4 2 3]\n"
     ]
    }
   ],
   "source": [
    "print(df['Score'].unique())  #checking scores"
   ]
  },
  {
   "cell_type": "code",
   "execution_count": 11,
   "id": "ea99b5ca",
   "metadata": {},
   "outputs": [
    {
     "data": {
      "text/plain": [
       "5    363122\n",
       "4     80655\n",
       "1     52268\n",
       "3     42640\n",
       "2     29769\n",
       "Name: Score, dtype: int64"
      ]
     },
     "execution_count": 11,
     "metadata": {},
     "output_type": "execute_result"
    }
   ],
   "source": [
    "a = df['Score'].value_counts()\n",
    "a"
   ]
  },
  {
   "cell_type": "code",
   "execution_count": 12,
   "id": "b5f57f6a",
   "metadata": {},
   "outputs": [
    {
     "data": {
      "text/plain": [
       "<AxesSubplot:xlabel='Score', ylabel='Count'>"
      ]
     },
     "execution_count": 12,
     "metadata": {},
     "output_type": "execute_result"
    },
    {
     "data": {
      "image/png": "[encoded data removed]",
      "text/plain": [
       "<Figure size 720x360 with 1 Axes>"
      ]
     },
     "metadata": {
      "needs_background": "light"
     },
     "output_type": "display_data"
    }
   ],
   "source": [
    "plt.figure(figsize = (10, 5))\n",
    "sns.histplot(x =\"Score\",data=df, kde = True,palette=\"dark\")"
   ]
  },
  {
   "cell_type": "code",
   "execution_count": 13,
   "id": "3ecb6574",
   "metadata": {},
   "outputs": [
    {
     "name": "stderr",
     "output_type": "stream",
     "text": [
      "<ipython-input-13-7a11bfd5a22e>:3: SettingWithCopyWarning: \n",
      "A value is trying to be set on a copy of a slice from a DataFrame\n",
      "\n",
      "See the caveats in the documentation: https://pandas.pydata.org/pandas-docs/stable/user_guide/indexing.html#returning-a-view-versus-a-copy\n",
      "  df['Score'][i] = 'Highly Positive'\n",
      "C:\\ProgramData\\Anaconda3\\lib\\site-packages\\pandas\\core\\indexing.py:1637: SettingWithCopyWarning: \n",
      "A value is trying to be set on a copy of a slice from a DataFrame\n",
      "\n",
      "See the caveats in the documentation: https://pandas.pydata.org/pandas-docs/stable/user_guide/indexing.html#returning-a-view-versus-a-copy\n",
      "  self._setitem_single_block(indexer, value, name)\n"
     ]
    }
   ],
   "source": [
    "for i, row in df.iterrows():\n",
    "    if df['Score'][i] == 5:\n",
    "        df['Score'][i] = 'Highly Positive'\n",
    "    elif df['Score'][i] ==4:\n",
    "        df['Score'][i] = 'Positive' \n",
    "    elif df['Score'][i] == 3:\n",
    "         df['Score'][i] = 'Moderate' \n",
    "    elif df['Score'][i] >= 1 or df['Score'][i] <=2:\n",
    "        df['Score'][i] = 'Negative' \n",
    "    elif df['Score'][i] == 0:\n",
    "        df['Score'][i] = 'Neutral' "
   ]
  },
  {
   "cell_type": "code",
   "execution_count": 14,
   "id": "8773d72c",
   "metadata": {},
   "outputs": [
    {
     "data": {
      "text/plain": [
       "Highly Positive    363122\n",
       "Negative            82037\n",
       "Positive            80655\n",
       "Moderate            42640\n",
       "Name: Score, dtype: int64"
      ]
     },
     "execution_count": 14,
     "metadata": {},
     "output_type": "execute_result"
    }
   ],
   "source": [
    "df.head()\n",
    "\n",
    "b = df['Score'].value_counts()\n",
    "b"
   ]
  },
  {
   "cell_type": "code",
   "execution_count": 15,
   "id": "2344fe14",
   "metadata": {},
   "outputs": [
    {
     "data": {
      "text/plain": [
       "<AxesSubplot:xlabel='Score', ylabel='count'>"
      ]
     },
     "execution_count": 15,
     "metadata": {},
     "output_type": "execute_result"
    },
    {
     "data": {
      "image/png": "[encoded data removed]",
      "text/plain": [
       "<Figure size 720x576 with 1 Axes>"
      ]
     },
     "metadata": {
      "needs_background": "light"
     },
     "output_type": "display_data"
    }
   ],
   "source": [
    "plt.figure(figsize = (10,8))\n",
    "sns.countplot(x=\"Score\",data=df, palette=\"dark\")"
   ]
  },
  {
   "cell_type": "code",
   "execution_count": 17,
   "id": "96b4add0",
   "metadata": {},
   "outputs": [],
   "source": [
    "ps = PorterStemmer()\n",
    "def clean_text(Text):\n",
    "    Text = str(Text).lower() # convert to lowercase\n",
    "    Text = re.sub('\\[.*?\\]', '', Text) \n",
    "    Text = re.sub(r\"\\s+[a-zA-Z]\\s+\", ' ', Text) # remove single letter\n",
    "    Text = Text.replace('n\\'t', ' not') # convert n't to not\n",
    "    Text = re.sub('https?://\\S+|www\\.\\S+', '', Text) # Remove URls, whitespace characters\n",
    "    Text= re.sub('<.*?>+', '',Text)\n",
    "    Text = re.sub(r'[^a-z0-9\\s]', '', Text) # Remove punctuation\n",
    "    Text= re.sub('\\n', '', Text)\n",
    "    Text= re.sub('\\w*\\d\\w*', '', Text) #\\d matches a digit between 0 to 9\n",
    "    Text = Text.split() #tokenization\n",
    "    Text = [ps.stem(word) for word in Text if not word in stopwords.words('english')] #stemming and removing stopwords\n",
    "    Text = ' '.join(Text)\n",
    "    return Text"
   ]
  },
  {
   "cell_type": "code",
   "execution_count": 18,
   "id": "84b664f5",
   "metadata": {},
   "outputs": [],
   "source": [
    "df['Text'] = df['Text'].apply(clean_text)"
   ]
  },
  {
   "cell_type": "code",
   "execution_count": 19,
   "id": "5c368e3f",
   "metadata": {},
   "outputs": [
    {
     "data": {
      "text/html": [
       "<div>\n",
       "<style scoped>\n",
       "    .dataframe tbody tr th:only-of-type {\n",
       "        vertical-align: middle;\n",
       "    }\n",
       "\n",
       "    .dataframe tbody tr th {\n",
       "        vertical-align: top;\n",
       "    }\n",
       "\n",
       "    .dataframe thead th {\n",
       "        text-align: right;\n",
       "    }\n",
       "</style>\n",
       "<table border=\"1\" class=\"dataframe\">\n",
       "  <thead>\n",
       "    <tr style=\"text-align: right;\">\n",
       "      <th></th>\n",
       "      <th>Score</th>\n",
       "      <th>Text</th>\n",
       "    </tr>\n",
       "  </thead>\n",
       "  <tbody>\n",
       "    <tr>\n",
       "      <th>0</th>\n",
       "      <td>Highly Positive</td>\n",
       "      <td>bought sever vital can dog food product found ...</td>\n",
       "    </tr>\n",
       "    <tr>\n",
       "      <th>1</th>\n",
       "      <td>Negative</td>\n",
       "      <td>product arriv label jumbo salt peanutsth peanu...</td>\n",
       "    </tr>\n",
       "    <tr>\n",
       "      <th>2</th>\n",
       "      <td>Positive</td>\n",
       "      <td>confect around centuri light pillowi citru gel...</td>\n",
       "    </tr>\n",
       "    <tr>\n",
       "      <th>3</th>\n",
       "      <td>Negative</td>\n",
       "      <td>look secret ingredi robitussin believ found go...</td>\n",
       "    </tr>\n",
       "    <tr>\n",
       "      <th>4</th>\n",
       "      <td>Highly Positive</td>\n",
       "      <td>great taffi great price wide assort yummi taff...</td>\n",
       "    </tr>\n",
       "    <tr>\n",
       "      <th>...</th>\n",
       "      <td>...</td>\n",
       "      <td>...</td>\n",
       "    </tr>\n",
       "    <tr>\n",
       "      <th>568449</th>\n",
       "      <td>Highly Positive</td>\n",
       "      <td>great sesam chickenthi good better restur eate...</td>\n",
       "    </tr>\n",
       "    <tr>\n",
       "      <th>568450</th>\n",
       "      <td>Negative</td>\n",
       "      <td>im disappoint flavor chocol note especi weak m...</td>\n",
       "    </tr>\n",
       "    <tr>\n",
       "      <th>568451</th>\n",
       "      <td>Highly Positive</td>\n",
       "      <td>star small give one train session tri train do...</td>\n",
       "    </tr>\n",
       "    <tr>\n",
       "      <th>568452</th>\n",
       "      <td>Highly Positive</td>\n",
       "      <td>best treat train reward dog good groom lower c...</td>\n",
       "    </tr>\n",
       "    <tr>\n",
       "      <th>568453</th>\n",
       "      <td>Highly Positive</td>\n",
       "      <td>satisfi product advertis use cereal raw vinega...</td>\n",
       "    </tr>\n",
       "  </tbody>\n",
       "</table>\n",
       "<p>568454 rows × 2 columns</p>\n",
       "</div>"
      ],
      "text/plain": [
       "                  Score                                               Text\n",
       "0       Highly Positive  bought sever vital can dog food product found ...\n",
       "1              Negative  product arriv label jumbo salt peanutsth peanu...\n",
       "2              Positive  confect around centuri light pillowi citru gel...\n",
       "3              Negative  look secret ingredi robitussin believ found go...\n",
       "4       Highly Positive  great taffi great price wide assort yummi taff...\n",
       "...                 ...                                                ...\n",
       "568449  Highly Positive  great sesam chickenthi good better restur eate...\n",
       "568450         Negative  im disappoint flavor chocol note especi weak m...\n",
       "568451  Highly Positive  star small give one train session tri train do...\n",
       "568452  Highly Positive  best treat train reward dog good groom lower c...\n",
       "568453  Highly Positive  satisfi product advertis use cereal raw vinega...\n",
       "\n",
       "[568454 rows x 2 columns]"
      ]
     },
     "execution_count": 19,
     "metadata": {},
     "output_type": "execute_result"
    }
   ],
   "source": [
    "df"
   ]
  },
  {
   "cell_type": "markdown",
   "id": "a12f6c90",
   "metadata": {},
   "source": [
    "#### Data splitting"
   ]
  },
  {
   "cell_type": "code",
   "execution_count": 20,
   "id": "4e0d7e42",
   "metadata": {},
   "outputs": [
    {
     "name": "stdout",
     "output_type": "stream",
     "text": [
      "bought sever vital can dog food product found good qualiti product look like stew process meat smell better labrador finicki appreci product better\n"
     ]
    },
    {
     "data": {
      "text/html": [
       "<div>\n",
       "<style scoped>\n",
       "    .dataframe tbody tr th:only-of-type {\n",
       "        vertical-align: middle;\n",
       "    }\n",
       "\n",
       "    .dataframe tbody tr th {\n",
       "        vertical-align: top;\n",
       "    }\n",
       "\n",
       "    .dataframe thead th {\n",
       "        text-align: right;\n",
       "    }\n",
       "</style>\n",
       "<table border=\"1\" class=\"dataframe\">\n",
       "  <thead>\n",
       "    <tr style=\"text-align: right;\">\n",
       "      <th></th>\n",
       "      <th>Score</th>\n",
       "      <th>Text</th>\n",
       "    </tr>\n",
       "  </thead>\n",
       "  <tbody>\n",
       "    <tr>\n",
       "      <th>0</th>\n",
       "      <td>Highly Positive</td>\n",
       "      <td>bought sever vital can dog food product found ...</td>\n",
       "    </tr>\n",
       "    <tr>\n",
       "      <th>1</th>\n",
       "      <td>Negative</td>\n",
       "      <td>product arriv label jumbo salt peanutsth peanu...</td>\n",
       "    </tr>\n",
       "    <tr>\n",
       "      <th>2</th>\n",
       "      <td>Positive</td>\n",
       "      <td>confect around centuri light pillowi citru gel...</td>\n",
       "    </tr>\n",
       "    <tr>\n",
       "      <th>3</th>\n",
       "      <td>Negative</td>\n",
       "      <td>look secret ingredi robitussin believ found go...</td>\n",
       "    </tr>\n",
       "    <tr>\n",
       "      <th>4</th>\n",
       "      <td>Highly Positive</td>\n",
       "      <td>great taffi great price wide assort yummi taff...</td>\n",
       "    </tr>\n",
       "    <tr>\n",
       "      <th>...</th>\n",
       "      <td>...</td>\n",
       "      <td>...</td>\n",
       "    </tr>\n",
       "    <tr>\n",
       "      <th>419995</th>\n",
       "      <td>Highly Positive</td>\n",
       "      <td>im familiar brand alreadi like one realli enjo...</td>\n",
       "    </tr>\n",
       "    <tr>\n",
       "      <th>419996</th>\n",
       "      <td>Highly Positive</td>\n",
       "      <td>starbuck coffe opinon second none best coffe ever</td>\n",
       "    </tr>\n",
       "    <tr>\n",
       "      <th>419997</th>\n",
       "      <td>Highly Positive</td>\n",
       "      <td>maxwel hous lite coffe quit similar folger hal...</td>\n",
       "    </tr>\n",
       "    <tr>\n",
       "      <th>419998</th>\n",
       "      <td>Positive</td>\n",
       "      <td>ca go wrong wolfgang puck qualiti alway great ...</td>\n",
       "    </tr>\n",
       "    <tr>\n",
       "      <th>419999</th>\n",
       "      <td>Negative</td>\n",
       "      <td>wife love wolfgang puck caramel cream tri kcup...</td>\n",
       "    </tr>\n",
       "  </tbody>\n",
       "</table>\n",
       "<p>420000 rows × 2 columns</p>\n",
       "</div>"
      ],
      "text/plain": [
       "                  Score                                               Text\n",
       "0       Highly Positive  bought sever vital can dog food product found ...\n",
       "1              Negative  product arriv label jumbo salt peanutsth peanu...\n",
       "2              Positive  confect around centuri light pillowi citru gel...\n",
       "3              Negative  look secret ingredi robitussin believ found go...\n",
       "4       Highly Positive  great taffi great price wide assort yummi taff...\n",
       "...                 ...                                                ...\n",
       "419995  Highly Positive  im familiar brand alreadi like one realli enjo...\n",
       "419996  Highly Positive  starbuck coffe opinon second none best coffe ever\n",
       "419997  Highly Positive  maxwel hous lite coffe quit similar folger hal...\n",
       "419998         Positive  ca go wrong wolfgang puck qualiti alway great ...\n",
       "419999         Negative  wife love wolfgang puck caramel cream tri kcup...\n",
       "\n",
       "[420000 rows x 2 columns]"
      ]
     },
     "execution_count": 20,
     "metadata": {},
     "output_type": "execute_result"
    }
   ],
   "source": [
    "train_df= df[:420000]  #taking the first 420000 data from the huge dataset\n",
    "print(train_df['Text'].iloc[0])\n",
    "train_df"
   ]
  },
  {
   "cell_type": "code",
   "execution_count": 21,
   "id": "2b54d853",
   "metadata": {},
   "outputs": [
    {
     "name": "stdout",
     "output_type": "stream",
     "text": [
      "im coffe drinker thought id give tri sinc like caramel latt occas ive ad plu littl sugar good tast good balanc coffeecreamersugar make sicki sweet like barrista version bitter like coffe\n"
     ]
    },
    {
     "data": {
      "text/html": [
       "<div>\n",
       "<style scoped>\n",
       "    .dataframe tbody tr th:only-of-type {\n",
       "        vertical-align: middle;\n",
       "    }\n",
       "\n",
       "    .dataframe tbody tr th {\n",
       "        vertical-align: top;\n",
       "    }\n",
       "\n",
       "    .dataframe thead th {\n",
       "        text-align: right;\n",
       "    }\n",
       "</style>\n",
       "<table border=\"1\" class=\"dataframe\">\n",
       "  <thead>\n",
       "    <tr style=\"text-align: right;\">\n",
       "      <th></th>\n",
       "      <th>Score</th>\n",
       "      <th>Text</th>\n",
       "    </tr>\n",
       "  </thead>\n",
       "  <tbody>\n",
       "    <tr>\n",
       "      <th>420000</th>\n",
       "      <td>Positive</td>\n",
       "      <td>im coffe drinker thought id give tri sinc like...</td>\n",
       "    </tr>\n",
       "    <tr>\n",
       "      <th>420001</th>\n",
       "      <td>Positive</td>\n",
       "      <td>never tast thisbut wife stepdaught love cheapb...</td>\n",
       "    </tr>\n",
       "    <tr>\n",
       "      <th>420002</th>\n",
       "      <td>Highly Positive</td>\n",
       "      <td>lot choic net buy hazelnut went klein simpli p...</td>\n",
       "    </tr>\n",
       "    <tr>\n",
       "      <th>420003</th>\n",
       "      <td>Highly Positive</td>\n",
       "      <td>love garlic marinara sauc tast like homemad ad...</td>\n",
       "    </tr>\n",
       "    <tr>\n",
       "      <th>420004</th>\n",
       "      <td>Highly Positive</td>\n",
       "      <td>hope said lol sauc amaz size perfect great man...</td>\n",
       "    </tr>\n",
       "    <tr>\n",
       "      <th>...</th>\n",
       "      <td>...</td>\n",
       "      <td>...</td>\n",
       "    </tr>\n",
       "    <tr>\n",
       "      <th>568449</th>\n",
       "      <td>Highly Positive</td>\n",
       "      <td>great sesam chickenthi good better restur eate...</td>\n",
       "    </tr>\n",
       "    <tr>\n",
       "      <th>568450</th>\n",
       "      <td>Negative</td>\n",
       "      <td>im disappoint flavor chocol note especi weak m...</td>\n",
       "    </tr>\n",
       "    <tr>\n",
       "      <th>568451</th>\n",
       "      <td>Highly Positive</td>\n",
       "      <td>star small give one train session tri train do...</td>\n",
       "    </tr>\n",
       "    <tr>\n",
       "      <th>568452</th>\n",
       "      <td>Highly Positive</td>\n",
       "      <td>best treat train reward dog good groom lower c...</td>\n",
       "    </tr>\n",
       "    <tr>\n",
       "      <th>568453</th>\n",
       "      <td>Highly Positive</td>\n",
       "      <td>satisfi product advertis use cereal raw vinega...</td>\n",
       "    </tr>\n",
       "  </tbody>\n",
       "</table>\n",
       "<p>148454 rows × 2 columns</p>\n",
       "</div>"
      ],
      "text/plain": [
       "                  Score                                               Text\n",
       "420000         Positive  im coffe drinker thought id give tri sinc like...\n",
       "420001         Positive  never tast thisbut wife stepdaught love cheapb...\n",
       "420002  Highly Positive  lot choic net buy hazelnut went klein simpli p...\n",
       "420003  Highly Positive  love garlic marinara sauc tast like homemad ad...\n",
       "420004  Highly Positive  hope said lol sauc amaz size perfect great man...\n",
       "...                 ...                                                ...\n",
       "568449  Highly Positive  great sesam chickenthi good better restur eate...\n",
       "568450         Negative  im disappoint flavor chocol note especi weak m...\n",
       "568451  Highly Positive  star small give one train session tri train do...\n",
       "568452  Highly Positive  best treat train reward dog good groom lower c...\n",
       "568453  Highly Positive  satisfi product advertis use cereal raw vinega...\n",
       "\n",
       "[148454 rows x 2 columns]"
      ]
     },
     "execution_count": 21,
     "metadata": {},
     "output_type": "execute_result"
    }
   ],
   "source": [
    "test_df= df[420000:]  #taking the first 20000 data from the huge dataset\n",
    "print(test_df['Text'].iloc[0])\n",
    "test_df"
   ]
  },
  {
   "cell_type": "code",
   "execution_count": 22,
   "id": "0f1d9ef1",
   "metadata": {},
   "outputs": [],
   "source": [
    "# fastText expects the category first, with the prefix ‘__label__’ before each category, and then the input text"
   ]
  },
  {
   "cell_type": "code",
   "execution_count": 23,
   "id": "83ed5f70",
   "metadata": {},
   "outputs": [],
   "source": [
    "train_dataset = train_df[['Text', 'Score']].rename(columns = {'Text': 'Reviews', 'Score': 'category'})\n",
    "test_dataset = test_df[['Text', 'Score']].rename(columns = {'Text': 'Reviews', 'Score': 'category'})"
   ]
  },
  {
   "cell_type": "code",
   "execution_count": 24,
   "id": "894d0fc5",
   "metadata": {},
   "outputs": [],
   "source": [
    "# Prefixing each row of the category column with '__label__'\n",
    "train_dataset.iloc[:, 1] = train_dataset.iloc[:, 1].astype(str).apply(lambda x: '__label__' + x)\n",
    "test_dataset.iloc[:, 1] = test_dataset.iloc[:, 1].astype(str).apply(lambda x: '__label__' + x)"
   ]
  },
  {
   "cell_type": "code",
   "execution_count": 25,
   "id": "67505454",
   "metadata": {},
   "outputs": [
    {
     "data": {
      "text/html": [
       "<div>\n",
       "<style scoped>\n",
       "    .dataframe tbody tr th:only-of-type {\n",
       "        vertical-align: middle;\n",
       "    }\n",
       "\n",
       "    .dataframe tbody tr th {\n",
       "        vertical-align: top;\n",
       "    }\n",
       "\n",
       "    .dataframe thead th {\n",
       "        text-align: right;\n",
       "    }\n",
       "</style>\n",
       "<table border=\"1\" class=\"dataframe\">\n",
       "  <thead>\n",
       "    <tr style=\"text-align: right;\">\n",
       "      <th></th>\n",
       "      <th>Reviews</th>\n",
       "      <th>category</th>\n",
       "    </tr>\n",
       "  </thead>\n",
       "  <tbody>\n",
       "    <tr>\n",
       "      <th>0</th>\n",
       "      <td>bought sever vital can dog food product found ...</td>\n",
       "      <td>__label__Highly Positive</td>\n",
       "    </tr>\n",
       "    <tr>\n",
       "      <th>1</th>\n",
       "      <td>product arriv label jumbo salt peanutsth peanu...</td>\n",
       "      <td>__label__Negative</td>\n",
       "    </tr>\n",
       "    <tr>\n",
       "      <th>2</th>\n",
       "      <td>confect around centuri light pillowi citru gel...</td>\n",
       "      <td>__label__Positive</td>\n",
       "    </tr>\n",
       "    <tr>\n",
       "      <th>3</th>\n",
       "      <td>look secret ingredi robitussin believ found go...</td>\n",
       "      <td>__label__Negative</td>\n",
       "    </tr>\n",
       "    <tr>\n",
       "      <th>4</th>\n",
       "      <td>great taffi great price wide assort yummi taff...</td>\n",
       "      <td>__label__Highly Positive</td>\n",
       "    </tr>\n",
       "  </tbody>\n",
       "</table>\n",
       "</div>"
      ],
      "text/plain": [
       "                                             Reviews                  category\n",
       "0  bought sever vital can dog food product found ...  __label__Highly Positive\n",
       "1  product arriv label jumbo salt peanutsth peanu...         __label__Negative\n",
       "2  confect around centuri light pillowi citru gel...         __label__Positive\n",
       "3  look secret ingredi robitussin believ found go...         __label__Negative\n",
       "4  great taffi great price wide assort yummi taff...  __label__Highly Positive"
      ]
     },
     "execution_count": 25,
     "metadata": {},
     "output_type": "execute_result"
    }
   ],
   "source": [
    "train_dataset.head()"
   ]
  },
  {
   "cell_type": "code",
   "execution_count": 26,
   "id": "3d525fc3",
   "metadata": {},
   "outputs": [
    {
     "data": {
      "text/html": [
       "<div>\n",
       "<style scoped>\n",
       "    .dataframe tbody tr th:only-of-type {\n",
       "        vertical-align: middle;\n",
       "    }\n",
       "\n",
       "    .dataframe tbody tr th {\n",
       "        vertical-align: top;\n",
       "    }\n",
       "\n",
       "    .dataframe thead th {\n",
       "        text-align: right;\n",
       "    }\n",
       "</style>\n",
       "<table border=\"1\" class=\"dataframe\">\n",
       "  <thead>\n",
       "    <tr style=\"text-align: right;\">\n",
       "      <th></th>\n",
       "      <th>Reviews</th>\n",
       "      <th>category</th>\n",
       "    </tr>\n",
       "  </thead>\n",
       "  <tbody>\n",
       "    <tr>\n",
       "      <th>420000</th>\n",
       "      <td>im coffe drinker thought id give tri sinc like...</td>\n",
       "      <td>__label__Positive</td>\n",
       "    </tr>\n",
       "    <tr>\n",
       "      <th>420001</th>\n",
       "      <td>never tast thisbut wife stepdaught love cheapb...</td>\n",
       "      <td>__label__Positive</td>\n",
       "    </tr>\n",
       "    <tr>\n",
       "      <th>420002</th>\n",
       "      <td>lot choic net buy hazelnut went klein simpli p...</td>\n",
       "      <td>__label__Highly Positive</td>\n",
       "    </tr>\n",
       "    <tr>\n",
       "      <th>420003</th>\n",
       "      <td>love garlic marinara sauc tast like homemad ad...</td>\n",
       "      <td>__label__Highly Positive</td>\n",
       "    </tr>\n",
       "    <tr>\n",
       "      <th>420004</th>\n",
       "      <td>hope said lol sauc amaz size perfect great man...</td>\n",
       "      <td>__label__Highly Positive</td>\n",
       "    </tr>\n",
       "  </tbody>\n",
       "</table>\n",
       "</div>"
      ],
      "text/plain": [
       "                                                  Reviews  \\\n",
       "420000  im coffe drinker thought id give tri sinc like...   \n",
       "420001  never tast thisbut wife stepdaught love cheapb...   \n",
       "420002  lot choic net buy hazelnut went klein simpli p...   \n",
       "420003  love garlic marinara sauc tast like homemad ad...   \n",
       "420004  hope said lol sauc amaz size perfect great man...   \n",
       "\n",
       "                        category  \n",
       "420000         __label__Positive  \n",
       "420001         __label__Positive  \n",
       "420002  __label__Highly Positive  \n",
       "420003  __label__Highly Positive  \n",
       "420004  __label__Highly Positive  "
      ]
     },
     "execution_count": 26,
     "metadata": {},
     "output_type": "execute_result"
    }
   ],
   "source": [
    "test_dataset.head()"
   ]
  },
  {
   "cell_type": "code",
   "execution_count": null,
   "id": "7e0c0599",
   "metadata": {},
   "outputs": [],
   "source": []
  },
  {
   "cell_type": "code",
   "execution_count": 27,
   "id": "3c3f5b77",
   "metadata": {},
   "outputs": [],
   "source": [
    "df_train = pd.DataFrame(train_dataset, columns = ['category', 'Reviews'])"
   ]
  },
  {
   "cell_type": "code",
   "execution_count": 28,
   "id": "afd10fcb",
   "metadata": {},
   "outputs": [
    {
     "data": {
      "text/html": [
       "<div>\n",
       "<style scoped>\n",
       "    .dataframe tbody tr th:only-of-type {\n",
       "        vertical-align: middle;\n",
       "    }\n",
       "\n",
       "    .dataframe tbody tr th {\n",
       "        vertical-align: top;\n",
       "    }\n",
       "\n",
       "    .dataframe thead th {\n",
       "        text-align: right;\n",
       "    }\n",
       "</style>\n",
       "<table border=\"1\" class=\"dataframe\">\n",
       "  <thead>\n",
       "    <tr style=\"text-align: right;\">\n",
       "      <th></th>\n",
       "      <th>category</th>\n",
       "      <th>Reviews</th>\n",
       "    </tr>\n",
       "  </thead>\n",
       "  <tbody>\n",
       "    <tr>\n",
       "      <th>0</th>\n",
       "      <td>__label__Highly Positive</td>\n",
       "      <td>bought sever vital can dog food product found ...</td>\n",
       "    </tr>\n",
       "    <tr>\n",
       "      <th>1</th>\n",
       "      <td>__label__Negative</td>\n",
       "      <td>product arriv label jumbo salt peanutsth peanu...</td>\n",
       "    </tr>\n",
       "    <tr>\n",
       "      <th>2</th>\n",
       "      <td>__label__Positive</td>\n",
       "      <td>confect around centuri light pillowi citru gel...</td>\n",
       "    </tr>\n",
       "    <tr>\n",
       "      <th>3</th>\n",
       "      <td>__label__Negative</td>\n",
       "      <td>look secret ingredi robitussin believ found go...</td>\n",
       "    </tr>\n",
       "    <tr>\n",
       "      <th>4</th>\n",
       "      <td>__label__Highly Positive</td>\n",
       "      <td>great taffi great price wide assort yummi taff...</td>\n",
       "    </tr>\n",
       "    <tr>\n",
       "      <th>...</th>\n",
       "      <td>...</td>\n",
       "      <td>...</td>\n",
       "    </tr>\n",
       "    <tr>\n",
       "      <th>419995</th>\n",
       "      <td>__label__Highly Positive</td>\n",
       "      <td>im familiar brand alreadi like one realli enjo...</td>\n",
       "    </tr>\n",
       "    <tr>\n",
       "      <th>419996</th>\n",
       "      <td>__label__Highly Positive</td>\n",
       "      <td>starbuck coffe opinon second none best coffe ever</td>\n",
       "    </tr>\n",
       "    <tr>\n",
       "      <th>419997</th>\n",
       "      <td>__label__Highly Positive</td>\n",
       "      <td>maxwel hous lite coffe quit similar folger hal...</td>\n",
       "    </tr>\n",
       "    <tr>\n",
       "      <th>419998</th>\n",
       "      <td>__label__Positive</td>\n",
       "      <td>ca go wrong wolfgang puck qualiti alway great ...</td>\n",
       "    </tr>\n",
       "    <tr>\n",
       "      <th>419999</th>\n",
       "      <td>__label__Negative</td>\n",
       "      <td>wife love wolfgang puck caramel cream tri kcup...</td>\n",
       "    </tr>\n",
       "  </tbody>\n",
       "</table>\n",
       "<p>420000 rows × 2 columns</p>\n",
       "</div>"
      ],
      "text/plain": [
       "                        category  \\\n",
       "0       __label__Highly Positive   \n",
       "1              __label__Negative   \n",
       "2              __label__Positive   \n",
       "3              __label__Negative   \n",
       "4       __label__Highly Positive   \n",
       "...                          ...   \n",
       "419995  __label__Highly Positive   \n",
       "419996  __label__Highly Positive   \n",
       "419997  __label__Highly Positive   \n",
       "419998         __label__Positive   \n",
       "419999         __label__Negative   \n",
       "\n",
       "                                                  Reviews  \n",
       "0       bought sever vital can dog food product found ...  \n",
       "1       product arriv label jumbo salt peanutsth peanu...  \n",
       "2       confect around centuri light pillowi citru gel...  \n",
       "3       look secret ingredi robitussin believ found go...  \n",
       "4       great taffi great price wide assort yummi taff...  \n",
       "...                                                   ...  \n",
       "419995  im familiar brand alreadi like one realli enjo...  \n",
       "419996  starbuck coffe opinon second none best coffe ever  \n",
       "419997  maxwel hous lite coffe quit similar folger hal...  \n",
       "419998  ca go wrong wolfgang puck qualiti alway great ...  \n",
       "419999  wife love wolfgang puck caramel cream tri kcup...  \n",
       "\n",
       "[420000 rows x 2 columns]"
      ]
     },
     "execution_count": 28,
     "metadata": {},
     "output_type": "execute_result"
    }
   ],
   "source": [
    "df_train"
   ]
  },
  {
   "cell_type": "code",
   "execution_count": 29,
   "id": "10ca7c52",
   "metadata": {},
   "outputs": [],
   "source": [
    "df_test = pd.DataFrame(test_dataset, columns = ['category', 'Reviews'])"
   ]
  },
  {
   "cell_type": "code",
   "execution_count": 30,
   "id": "ca362992",
   "metadata": {},
   "outputs": [
    {
     "data": {
      "text/html": [
       "<div>\n",
       "<style scoped>\n",
       "    .dataframe tbody tr th:only-of-type {\n",
       "        vertical-align: middle;\n",
       "    }\n",
       "\n",
       "    .dataframe tbody tr th {\n",
       "        vertical-align: top;\n",
       "    }\n",
       "\n",
       "    .dataframe thead th {\n",
       "        text-align: right;\n",
       "    }\n",
       "</style>\n",
       "<table border=\"1\" class=\"dataframe\">\n",
       "  <thead>\n",
       "    <tr style=\"text-align: right;\">\n",
       "      <th></th>\n",
       "      <th>category</th>\n",
       "      <th>Reviews</th>\n",
       "    </tr>\n",
       "  </thead>\n",
       "  <tbody>\n",
       "    <tr>\n",
       "      <th>420000</th>\n",
       "      <td>__label__Positive</td>\n",
       "      <td>im coffe drinker thought id give tri sinc like...</td>\n",
       "    </tr>\n",
       "    <tr>\n",
       "      <th>420001</th>\n",
       "      <td>__label__Positive</td>\n",
       "      <td>never tast thisbut wife stepdaught love cheapb...</td>\n",
       "    </tr>\n",
       "    <tr>\n",
       "      <th>420002</th>\n",
       "      <td>__label__Highly Positive</td>\n",
       "      <td>lot choic net buy hazelnut went klein simpli p...</td>\n",
       "    </tr>\n",
       "    <tr>\n",
       "      <th>420003</th>\n",
       "      <td>__label__Highly Positive</td>\n",
       "      <td>love garlic marinara sauc tast like homemad ad...</td>\n",
       "    </tr>\n",
       "    <tr>\n",
       "      <th>420004</th>\n",
       "      <td>__label__Highly Positive</td>\n",
       "      <td>hope said lol sauc amaz size perfect great man...</td>\n",
       "    </tr>\n",
       "    <tr>\n",
       "      <th>...</th>\n",
       "      <td>...</td>\n",
       "      <td>...</td>\n",
       "    </tr>\n",
       "    <tr>\n",
       "      <th>568449</th>\n",
       "      <td>__label__Highly Positive</td>\n",
       "      <td>great sesam chickenthi good better restur eate...</td>\n",
       "    </tr>\n",
       "    <tr>\n",
       "      <th>568450</th>\n",
       "      <td>__label__Negative</td>\n",
       "      <td>im disappoint flavor chocol note especi weak m...</td>\n",
       "    </tr>\n",
       "    <tr>\n",
       "      <th>568451</th>\n",
       "      <td>__label__Highly Positive</td>\n",
       "      <td>star small give one train session tri train do...</td>\n",
       "    </tr>\n",
       "    <tr>\n",
       "      <th>568452</th>\n",
       "      <td>__label__Highly Positive</td>\n",
       "      <td>best treat train reward dog good groom lower c...</td>\n",
       "    </tr>\n",
       "    <tr>\n",
       "      <th>568453</th>\n",
       "      <td>__label__Highly Positive</td>\n",
       "      <td>satisfi product advertis use cereal raw vinega...</td>\n",
       "    </tr>\n",
       "  </tbody>\n",
       "</table>\n",
       "<p>148454 rows × 2 columns</p>\n",
       "</div>"
      ],
      "text/plain": [
       "                        category  \\\n",
       "420000         __label__Positive   \n",
       "420001         __label__Positive   \n",
       "420002  __label__Highly Positive   \n",
       "420003  __label__Highly Positive   \n",
       "420004  __label__Highly Positive   \n",
       "...                          ...   \n",
       "568449  __label__Highly Positive   \n",
       "568450         __label__Negative   \n",
       "568451  __label__Highly Positive   \n",
       "568452  __label__Highly Positive   \n",
       "568453  __label__Highly Positive   \n",
       "\n",
       "                                                  Reviews  \n",
       "420000  im coffe drinker thought id give tri sinc like...  \n",
       "420001  never tast thisbut wife stepdaught love cheapb...  \n",
       "420002  lot choic net buy hazelnut went klein simpli p...  \n",
       "420003  love garlic marinara sauc tast like homemad ad...  \n",
       "420004  hope said lol sauc amaz size perfect great man...  \n",
       "...                                                   ...  \n",
       "568449  great sesam chickenthi good better restur eate...  \n",
       "568450  im disappoint flavor chocol note especi weak m...  \n",
       "568451  star small give one train session tri train do...  \n",
       "568452  best treat train reward dog good groom lower c...  \n",
       "568453  satisfi product advertis use cereal raw vinega...  \n",
       "\n",
       "[148454 rows x 2 columns]"
      ]
     },
     "execution_count": 30,
     "metadata": {},
     "output_type": "execute_result"
    }
   ],
   "source": [
    "df_test"
   ]
  },
  {
   "cell_type": "code",
   "execution_count": 31,
   "id": "59ed557a",
   "metadata": {},
   "outputs": [],
   "source": [
    "import csv\n",
    "df_train[['category', 'Reviews']].to_csv('train.txt', \n",
    "                                          index = False, \n",
    "                                          sep = ' ',\n",
    "                                          header = None, \n",
    "                                          quoting = csv.QUOTE_NONE, \n",
    "                                          quotechar = \"\", \n",
    "                                          escapechar = \" \")"
   ]
  },
  {
   "cell_type": "code",
   "execution_count": 32,
   "id": "ea32255c",
   "metadata": {},
   "outputs": [],
   "source": [
    "df_test[['category', 'Reviews']].to_csv('test.txt', \n",
    "                                          index = False, \n",
    "                                          sep = ' ',\n",
    "                                          header = None, \n",
    "                                          quoting = csv.QUOTE_NONE, \n",
    "                                          quotechar = \"\", \n",
    "                                          escapechar = \" \")"
   ]
  },
  {
   "cell_type": "markdown",
   "id": "ed2eebac",
   "metadata": {},
   "source": [
    "# Model Training, Evaluation,Text Classification"
   ]
  },
  {
   "cell_type": "markdown",
   "id": "a0930494",
   "metadata": {},
   "source": [
    "https://fasttext.cc/blog/2019/06/25/blog-post.html"
   ]
  },
  {
   "cell_type": "code",
   "execution_count": 33,
   "id": "4f746f8f",
   "metadata": {},
   "outputs": [],
   "source": [
    "#!pip install fasttext"
   ]
  },
  {
   "cell_type": "code",
   "execution_count": 34,
   "id": "0231fe7c",
   "metadata": {},
   "outputs": [],
   "source": [
    "import fasttext\n",
    "from fasttext import load_model"
   ]
  },
  {
   "cell_type": "code",
   "execution_count": 35,
   "id": "37388724",
   "metadata": {},
   "outputs": [],
   "source": [
    "# Training the fastText classifier\n",
    "model = fasttext.train_supervised(\"train.txt\", lr=0.1, dim=100, epoch=5, word_ngrams=2, loss='softmax')\n",
    "model.save_model(\"model_file.bin\")"
   ]
  },
  {
   "cell_type": "code",
   "execution_count": 74,
   "id": "96987f03",
   "metadata": {},
   "outputs": [],
   "source": [
    "# Save the trained model\n",
    "model.save_model('model_file.bin')"
   ]
  },
  {
   "cell_type": "code",
   "execution_count": 37,
   "id": "bd674ed8",
   "metadata": {},
   "outputs": [
    {
     "name": "stderr",
     "output_type": "stream",
     "text": [
      "Warning : `load_model` does not return WordVectorModel or SupervisedModel any more, but a `FastText` object which is very similar.\n"
     ]
    }
   ],
   "source": [
    "ft_model = load_model('model_file.bin')"
   ]
  },
  {
   "cell_type": "markdown",
   "id": "c83aac6b",
   "metadata": {},
   "source": [
    "##### To evaluate our model by computing the precision at 1 (P@1) and the recall on a test set, we use the test function:"
   ]
  },
  {
   "cell_type": "code",
   "execution_count": 38,
   "id": "b32243b8",
   "metadata": {},
   "outputs": [],
   "source": [
    "#N = Number of data\n",
    "# precision value\n",
    "# Recall value"
   ]
  },
  {
   "cell_type": "code",
   "execution_count": 39,
   "id": "934a90fe",
   "metadata": {},
   "outputs": [
    {
     "name": "stdout",
     "output_type": "stream",
     "text": [
      "N\t148454\n",
      "P@1\t0.928\n",
      "R@1\t0.928\n"
     ]
    }
   ],
   "source": [
    "def print_results(N, p, r):    \n",
    "    print(\"N\\t\" + str(N))\n",
    "    print(\"P@{}\\t{:.3f}\".format(1, p))\n",
    "    print(\"R@{}\\t{:.3f}\".format(1, r))\n",
    "\n",
    "print_results(*ft_model.test('test.txt'))"
   ]
  },
  {
   "cell_type": "code",
   "execution_count": 40,
   "id": "90a8a497",
   "metadata": {},
   "outputs": [
    {
     "data": {
      "text/plain": [
       "(148454, 0.9276072049254315, 0.9276072049254315)"
      ]
     },
     "execution_count": 40,
     "metadata": {},
     "output_type": "execute_result"
    }
   ],
   "source": [
    "# Evaluating performance on the entire test file\n",
    "ft_model.test('test.txt') "
   ]
  },
  {
   "cell_type": "code",
   "execution_count": 41,
   "id": "5ee3520a",
   "metadata": {},
   "outputs": [
    {
     "name": "stdout",
     "output_type": "stream",
     "text": [
      "N\t420000\n",
      "P@1\t0.986\n",
      "R@1\t0.986\n"
     ]
    }
   ],
   "source": [
    "def print_results(N, p, r):    \n",
    "    print(\"N\\t\" + str(N))\n",
    "    print(\"P@{}\\t{:.3f}\".format(1, p))\n",
    "    print(\"R@{}\\t{:.3f}\".format(1, r))\n",
    "\n",
    "print_results(*ft_model.test('train.txt'))"
   ]
  },
  {
   "cell_type": "code",
   "execution_count": 42,
   "id": "466ba254",
   "metadata": {},
   "outputs": [
    {
     "data": {
      "text/plain": [
       "(420000, 0.9859928571428571, 0.9859928571428571)"
      ]
     },
     "execution_count": 42,
     "metadata": {},
     "output_type": "execute_result"
    }
   ],
   "source": [
    "ft_model.test('train.txt') "
   ]
  },
  {
   "cell_type": "code",
   "execution_count": 43,
   "id": "24a5561d",
   "metadata": {},
   "outputs": [
    {
     "data": {
      "text/plain": [
       "(('__label__Highly',), array([1.00001001]))"
      ]
     },
     "execution_count": 43,
     "metadata": {},
     "output_type": "execute_result"
    }
   ],
   "source": [
    "# Predicting on a single input\n",
    "ft_model.predict(df_test.iloc[2, 0])"
   ]
  },
  {
   "cell_type": "code",
   "execution_count": 44,
   "id": "4cc1c1f7",
   "metadata": {},
   "outputs": [
    {
     "name": "stdout",
     "output_type": "stream",
     "text": [
      "__label__Highly Positive\n"
     ]
    }
   ],
   "source": [
    "print(df_test.iloc[2, 0])"
   ]
  },
  {
   "cell_type": "code",
   "execution_count": 45,
   "id": "a4ef2c76",
   "metadata": {},
   "outputs": [
    {
     "data": {
      "text/plain": [
       "(('__label__Negative',), array([0.96972424]))"
      ]
     },
     "execution_count": 45,
     "metadata": {},
     "output_type": "execute_result"
    }
   ],
   "source": [
    "ft_model.predict(\"hey! you're so talented\")"
   ]
  },
  {
   "cell_type": "code",
   "execution_count": 46,
   "id": "a1989a2e",
   "metadata": {},
   "outputs": [
    {
     "data": {
      "text/plain": [
       "(('__label__Positive',), array([0.9933393]))"
      ]
     },
     "execution_count": 46,
     "metadata": {},
     "output_type": "execute_result"
    }
   ],
   "source": [
    "ft_model.predict(\" The food doesn't taste good\")"
   ]
  },
  {
   "cell_type": "markdown",
   "id": "723a7574",
   "metadata": {},
   "source": [
    "#### By default, predict returns only one label : the one with the highest probability. You can also predict more than one label by specifying the parameter k:"
   ]
  },
  {
   "cell_type": "code",
   "execution_count": 48,
   "id": "d383c4db",
   "metadata": {},
   "outputs": [
    {
     "data": {
      "text/plain": [
       "(('__label__Positive',), array([0.93136156]))"
      ]
     },
     "execution_count": 48,
     "metadata": {},
     "output_type": "execute_result"
    }
   ],
   "source": [
    "ft_model.predict(\" The food tastes good\")"
   ]
  },
  {
   "cell_type": "code",
   "execution_count": 49,
   "id": "b01f93ef",
   "metadata": {},
   "outputs": [
    {
     "data": {
      "text/plain": [
       "(('__label__Negative',), array([0.99675608]))"
      ]
     },
     "execution_count": 49,
     "metadata": {},
     "output_type": "execute_result"
    }
   ],
   "source": [
    "ft_model.predict(\"I hate you\")"
   ]
  },
  {
   "cell_type": "code",
   "execution_count": 50,
   "id": "4cad8ad4",
   "metadata": {},
   "outputs": [
    {
     "data": {
      "text/plain": [
       "(('__label__Negative',), array([0.99993718]))"
      ]
     },
     "execution_count": 50,
     "metadata": {},
     "output_type": "execute_result"
    }
   ],
   "source": [
    "ft_model.predict(\"You're so toxic\")"
   ]
  }
 ],
 "metadata": {
  "kernelspec": {
   "display_name": "Python 3",
   "language": "python",
   "name": "python3"
  },
  "language_info": {
   "codemirror_mode": {
    "name": "ipython",
    "version": 3
   },
   "file_extension": ".py",
   "mimetype": "text/x-python",
   "name": "python",
   "nbconvert_exporter": "python",
   "pygments_lexer": "ipython3",
   "version": "3.8.8"
  }
 },
 "nbformat": 4,
 "nbformat_minor": 5
}
